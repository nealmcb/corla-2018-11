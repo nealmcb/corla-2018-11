{
 "cells": [
  {
   "cell_type": "markdown",
   "metadata": {},
   "source": [
    "# Exploring RLA of Colorado's 2018 general election\n",
    "\n",
    "EARLY DRAFT, UNOFFICIAL DATA\n",
    "\n",
    "Batches, selections for Attorney General, etc."
   ]
  },
  {
   "cell_type": "code",
   "execution_count": 28,
   "metadata": {},
   "outputs": [],
   "source": [
    "import sys\n",
    "import glob\n",
    "import codecs\n",
    "import csv\n",
    "import collections\n",
    "import sampler"
   ]
  },
  {
   "cell_type": "code",
   "execution_count": 7,
   "metadata": {},
   "outputs": [],
   "source": [
    "sys.path.insert(0, '/srv/s/electionaudits/ColoradoRLA/server/eclipse-project/script/rla_export/neal_ignore/rla_report')\n",
    "sys.path.insert(0, '/srv/s/electionaudits/rivest-sampler-tests/src')"
   ]
  },
  {
   "cell_type": "code",
   "execution_count": 8,
   "metadata": {},
   "outputs": [],
   "source": [
    "import rla_report"
   ]
  },
  {
   "cell_type": "code",
   "execution_count": 18,
   "metadata": {},
   "outputs": [],
   "source": [
    "Batch = collections.namedtuple(\"batch\", \"county scanner batch cardcount location\")"
   ]
  },
  {
   "cell_type": "code",
   "execution_count": 21,
   "metadata": {},
   "outputs": [],
   "source": [
    "batches = []\n",
    "for manifestname in glob.glob('/srv/s/electionaudits/ColoradoRLA/neal_ignore/2018/manifests/*.csv'):\n",
    "            reader = csv.reader(codecs.open(manifestname, 'r', 'iso-8859-1'))\n",
    "            # Skip header row\n",
    "            next(reader)\n",
    "            for row in reader:\n",
    "                row[3] = int(row[3])\n",
    "                batches.append(Batch(*row[:5]))"
   ]
  },
  {
   "cell_type": "code",
   "execution_count": 24,
   "metadata": {},
   "outputs": [],
   "source": [
    "N = sum(batch.cardcount for batch in batches)"
   ]
  },
  {
   "cell_type": "code",
   "execution_count": 25,
   "metadata": {},
   "outputs": [
    {
     "data": {
      "text/plain": [
       "4651905"
      ]
     },
     "execution_count": 25,
     "metadata": {},
     "output_type": "execute_result"
    }
   ],
   "source": [
    "N"
   ]
  },
  {
   "cell_type": "code",
   "execution_count": 23,
   "metadata": {},
   "outputs": [
    {
     "data": {
      "text/plain": [
       "47674"
      ]
     },
     "execution_count": 23,
     "metadata": {},
     "output_type": "execute_result"
    }
   ],
   "source": [
    "len(batches)"
   ]
  },
  {
   "cell_type": "code",
   "execution_count": 86,
   "metadata": {},
   "outputs": [],
   "source": [
    "# Number of ballots to audit in the Attorney General contest.\n",
    "# From a screenshot of the RLATool for the state, after the seed was entered and the assignments made.\n",
    "n = 183"
   ]
  },
  {
   "cell_type": "code",
   "execution_count": 32,
   "metadata": {},
   "outputs": [],
   "source": [
    "seed = \"64496045949432238293\""
   ]
  },
  {
   "cell_type": "code",
   "execution_count": 34,
   "metadata": {},
   "outputs": [],
   "source": [
    "s2 = \"64496045949432238293\""
   ]
  },
  {
   "cell_type": "code",
   "execution_count": 39,
   "metadata": {},
   "outputs": [],
   "source": [
    "ballots_to_audit = []\n",
    "_, new_list = sampler.generate_outputs(n, True, 1, N, seed, 0)\n"
   ]
  },
  {
   "cell_type": "code",
   "execution_count": 42,
   "metadata": {},
   "outputs": [],
   "source": [
    "    selected = []\n",
    "    for selection in new_list:\n",
    "        i = 1\n",
    "        for batch in batches:\n",
    "            # If the selection fits in this batch\n",
    "            if selection <= i + batch.cardcount:\n",
    "                imprinted_id = \"%s-%s-%s-%s\" % (batch.county, batch.scanner, batch.batch, selection - i + 1)\n",
    "                selected.append(imprinted_id)\n",
    "                break\n",
    "\n",
    "            i += batch.cardcount"
   ]
  },
  {
   "cell_type": "code",
   "execution_count": 44,
   "metadata": {},
   "outputs": [
    {
     "data": {
      "text/plain": [
       "183"
      ]
     },
     "execution_count": 44,
     "metadata": {},
     "output_type": "execute_result"
    }
   ],
   "source": [
    "len(selected)"
   ]
  },
  {
   "cell_type": "code",
   "execution_count": 45,
   "metadata": {
    "scrolled": true
   },
   "outputs": [
    {
     "data": {
      "text/plain": [
       "['Eagle-100-1192-14',\n",
       " 'Pitkin-201-526-11',\n",
       " 'Denver-5-88-72',\n",
       " 'Logan-3-177-13',\n",
       " 'Arapahoe-9-26-13',\n",
       " 'El Paso-80-263-65',\n",
       " 'Adams-3-291-170',\n",
       " 'Arapahoe-9-146-75',\n",
       " 'Weld-1-122-39',\n",
       " 'Jefferson-1-46-93',\n",
       " 'Denver-5-277-48',\n",
       " 'BOULDER-2-92-147',\n",
       " 'Jefferson-7-334-88',\n",
       " 'Denver-7-13-51',\n",
       " 'Jefferson-7-213-154',\n",
       " 'Douglas-1-GEN-1102-79',\n",
       " 'Douglas-1-GEN-0921-161',\n",
       " 'BOULDER-4-51-157',\n",
       " 'Weld-4-299-183',\n",
       " 'Douglas-1-GEN-1433-11',\n",
       " 'El Paso-50-265-34',\n",
       " 'Denver-2-784-101',\n",
       " 'Denver-8-728-61',\n",
       " 'Elbert-4-315-11',\n",
       " 'El Paso-70-66-41',\n",
       " 'La Plata-1-251-20',\n",
       " 'El Paso-30-866-81',\n",
       " 'Jefferson-2-536-57',\n",
       " 'La Plata-1-526-19',\n",
       " 'Arapahoe-5-22-63',\n",
       " 'Denver-3-460-54',\n",
       " 'Douglas-1-GEN-0849-85',\n",
       " 'Adams-4-173-57',\n",
       " 'Adams-5-416-41',\n",
       " 'Jefferson-3-375-48',\n",
       " 'Denver-4-319-79',\n",
       " 'Adams-1-80-15',\n",
       " 'Douglas-1-GEN-0312-23',\n",
       " 'El Paso-20-510-77',\n",
       " 'BOULDER-6-62-81',\n",
       " 'BOULDER-8-27-24',\n",
       " 'Douglas-1-GEN-0992-55',\n",
       " 'Denver-7-135-63',\n",
       " 'Jefferson-2-786-60',\n",
       " 'Arapahoe-6-214-69',\n",
       " 'Denver-5-153-54',\n",
       " 'El Paso-30-772-25',\n",
       " 'Arapahoe-10-107-186',\n",
       " 'El Paso-80-516-56',\n",
       " 'Teller-4-253-24',\n",
       " 'Larimer-4-261-65',\n",
       " 'Arapahoe-6-146-33',\n",
       " 'Larimer-2-268-46',\n",
       " 'Moffat-2-172-17',\n",
       " 'Denver-5-454-66',\n",
       " 'Denver-7-263-42',\n",
       " 'El Paso-20-736-7',\n",
       " 'Arapahoe-4-88-151',\n",
       " 'El Paso-30-177-40',\n",
       " 'Weld-3-17-92',\n",
       " 'El Paso-20-182-25',\n",
       " 'Jefferson-3-296-28',\n",
       " 'Denver-5-58-94',\n",
       " 'Denver-1-775-2',\n",
       " 'BOULDER-2-78-128',\n",
       " 'BOULDER-2-37-80',\n",
       " 'Morgan-101-89-13',\n",
       " 'Denver-7-109-92',\n",
       " 'Arapahoe-7-91-11',\n",
       " 'Douglas-1-GEN-0915-114',\n",
       " 'BOULDER-6-50-85',\n",
       " 'Arapahoe-9-249-99',\n",
       " 'Jefferson-7-150-138',\n",
       " 'El Paso-10-171-92',\n",
       " 'Jefferson-2-351-198',\n",
       " 'BOULDER-5-37-245',\n",
       " 'Weld-4-27-35',\n",
       " 'Denver-5-1045-48',\n",
       " 'Arapahoe-2-1-134',\n",
       " 'Arapahoe-5-293-192',\n",
       " 'Denver-5-97-90',\n",
       " 'Arapahoe-4-156-13',\n",
       " 'El Paso-60-224-28',\n",
       " 'Weld-1-92-101',\n",
       " 'Douglas-1-GEN-1017-22',\n",
       " 'Jefferson-3-268-136',\n",
       " 'Denver-5-135-96',\n",
       " 'Montezuma-101-332-13',\n",
       " 'Logan-3-252-36',\n",
       " 'BOULDER-1-32-55',\n",
       " 'BOULDER-8-46-150',\n",
       " 'El Paso-10-54-30',\n",
       " 'Douglas-1-GEN-1605-16',\n",
       " 'Adams-4-190-3',\n",
       " 'Jefferson-7-33-40',\n",
       " 'BOULDER-10-100-144',\n",
       " 'Mesa-7-155-89',\n",
       " 'Douglas-1-GEN-1724-161',\n",
       " 'Adams-2-81-80',\n",
       " 'BOULDER-5-66-233',\n",
       " 'El Paso-10-76-59',\n",
       " 'Larimer-1-134-74',\n",
       " 'Jefferson-3-232-147',\n",
       " 'Denver-8-175-4',\n",
       " 'Jefferson-2-503-178',\n",
       " 'Adams-4-449-99',\n",
       " 'Chaffee-1-27-6',\n",
       " 'Fremont-4-567-25',\n",
       " 'El Paso-50-110-39',\n",
       " 'Denver-5-495-78',\n",
       " 'Adams-3-311-138',\n",
       " 'Jefferson-3-481-165',\n",
       " 'Denver-2-57-27',\n",
       " 'Arapahoe-19-23-50',\n",
       " 'Denver-5-236-14',\n",
       " 'Jefferson-5-15-77',\n",
       " 'La Plata-1-395-32',\n",
       " 'San Miguel-2-60-17',\n",
       " 'Jefferson-7-309-97',\n",
       " 'Denver-3-1107-2',\n",
       " 'El Paso-20-637-59',\n",
       " 'Denver-2-42-96',\n",
       " 'El Paso-20-627-87',\n",
       " 'BOULDER-1-55-269',\n",
       " 'El Paso-60-50-36',\n",
       " 'Denver-6-639-33',\n",
       " 'El Paso-40-235-98',\n",
       " 'Denver-3-226-100',\n",
       " 'Denver-6-581-8',\n",
       " 'Denver-3-232-43',\n",
       " 'El Paso-20-788-29',\n",
       " 'Denver-4-657-100',\n",
       " 'Delta-1-137-4',\n",
       " 'Arapahoe-7-335-189',\n",
       " 'El Paso-80-423-66',\n",
       " 'Gunnison-1-41-19',\n",
       " 'Jefferson-2-741-148',\n",
       " 'El Paso-30-290-29',\n",
       " 'Denver-1-1238-13',\n",
       " 'El Paso-20-279-8',\n",
       " 'Denver-1-639-22',\n",
       " 'El Paso-10-724-45',\n",
       " 'Adams-4-22-145',\n",
       " 'Jefferson-1-441-115',\n",
       " 'Weld-4-325-65',\n",
       " 'Jefferson-3-224-59',\n",
       " 'Weld-4-314-114',\n",
       " 'Weld-4-382-63',\n",
       " 'Jefferson-2-197-116',\n",
       " 'Denver-8-333-48',\n",
       " 'Denver-7-519-7',\n",
       " 'Arapahoe-9-44-67',\n",
       " 'Jefferson-2-79-21',\n",
       " 'Douglas-1-GEN-1609-131',\n",
       " 'Larimer-3-52-77',\n",
       " 'El Paso-30-295-66',\n",
       " 'Eagle-100-1634-9',\n",
       " 'Denver-1-102-8',\n",
       " 'El Paso-10-707-11',\n",
       " 'BOULDER-5-132-242',\n",
       " 'Pitkin-201-393-20',\n",
       " 'Summit-1-160-15',\n",
       " 'Douglas-1-GEN-1239-46',\n",
       " 'Weld-3-217-18',\n",
       " 'Arapahoe-4-179-134',\n",
       " 'Denver-1-1093-53',\n",
       " 'Jefferson-3-137-184',\n",
       " 'Denver-6-723-96',\n",
       " 'Jefferson-3-125-175',\n",
       " 'Denver-5-788-79',\n",
       " 'Arapahoe-10-159-58',\n",
       " 'Douglas-1-GEN-0424-14',\n",
       " 'Chaffee-1-37-18',\n",
       " 'Arapahoe-2-171-17',\n",
       " 'Adams-5-367-145',\n",
       " 'Jefferson-3-754-102',\n",
       " 'Denver-1-404-41',\n",
       " 'Montrose-1-287-21',\n",
       " 'El Paso-50-483-20',\n",
       " 'BOULDER-1-19-287',\n",
       " 'Jefferson-3-116-75',\n",
       " 'Arapahoe-4-244-127',\n",
       " 'BOULDER-3-57-82']"
      ]
     },
     "execution_count": 45,
     "metadata": {},
     "output_type": "execute_result"
    }
   ],
   "source": [
    "selected"
   ]
  },
  {
   "cell_type": "code",
   "execution_count": 48,
   "metadata": {},
   "outputs": [],
   "source": [
    "boulder = [b for b in selected if b.startswith('BOU')]"
   ]
  },
  {
   "cell_type": "code",
   "execution_count": 49,
   "metadata": {},
   "outputs": [
    {
     "data": {
      "text/plain": [
       "['BOULDER-2-92-147',\n",
       " 'BOULDER-4-51-157',\n",
       " 'BOULDER-6-62-81',\n",
       " 'BOULDER-8-27-24',\n",
       " 'BOULDER-2-78-128',\n",
       " 'BOULDER-2-37-80',\n",
       " 'BOULDER-6-50-85',\n",
       " 'BOULDER-5-37-245',\n",
       " 'BOULDER-1-32-55',\n",
       " 'BOULDER-8-46-150',\n",
       " 'BOULDER-10-100-144',\n",
       " 'BOULDER-5-66-233',\n",
       " 'BOULDER-1-55-269',\n",
       " 'BOULDER-5-132-242',\n",
       " 'BOULDER-1-19-287',\n",
       " 'BOULDER-3-57-82']"
      ]
     },
     "execution_count": 49,
     "metadata": {},
     "output_type": "execute_result"
    }
   ],
   "source": [
    "boulder"
   ]
  },
  {
   "cell_type": "code",
   "execution_count": 50,
   "metadata": {},
   "outputs": [
    {
     "data": {
      "text/plain": [
       "['BOULDER-1-19-287',\n",
       " 'BOULDER-1-32-55',\n",
       " 'BOULDER-1-55-269',\n",
       " 'BOULDER-10-100-144',\n",
       " 'BOULDER-2-37-80',\n",
       " 'BOULDER-2-78-128',\n",
       " 'BOULDER-2-92-147',\n",
       " 'BOULDER-3-57-82',\n",
       " 'BOULDER-4-51-157',\n",
       " 'BOULDER-5-132-242',\n",
       " 'BOULDER-5-37-245',\n",
       " 'BOULDER-5-66-233',\n",
       " 'BOULDER-6-50-85',\n",
       " 'BOULDER-6-62-81',\n",
       " 'BOULDER-8-27-24',\n",
       " 'BOULDER-8-46-150']"
      ]
     },
     "execution_count": 50,
     "metadata": {},
     "output_type": "execute_result"
    }
   ],
   "source": [
    "sorted(boulder)"
   ]
  },
  {
   "cell_type": "code",
   "execution_count": 54,
   "metadata": {},
   "outputs": [],
   "source": [
    "counts = collections.Counter([b[:b.index('-')] for b in sorted(selected)])"
   ]
  },
  {
   "cell_type": "code",
   "execution_count": 55,
   "metadata": {},
   "outputs": [
    {
     "data": {
      "text/plain": [
       "26"
      ]
     },
     "execution_count": 55,
     "metadata": {},
     "output_type": "execute_result"
    }
   ],
   "source": [
    "len(counts)"
   ]
  },
  {
   "cell_type": "code",
   "execution_count": 59,
   "metadata": {},
   "outputs": [
    {
     "data": {
      "text/plain": [
       "[('Denver', 37),\n",
       " ('El Paso', 27),\n",
       " ('Jefferson', 25),\n",
       " ('Arapahoe', 19),\n",
       " ('BOULDER', 16),\n",
       " ('Douglas', 13),\n",
       " ('Adams', 10),\n",
       " ('Weld', 9),\n",
       " ('Larimer', 4),\n",
       " ('La Plata', 3),\n",
       " ('Chaffee', 2),\n",
       " ('Eagle', 2),\n",
       " ('Logan', 2),\n",
       " ('Pitkin', 2),\n",
       " ('Delta', 1),\n",
       " ('Elbert', 1),\n",
       " ('Fremont', 1),\n",
       " ('Gunnison', 1),\n",
       " ('Mesa', 1),\n",
       " ('Moffat', 1),\n",
       " ('Montezuma', 1),\n",
       " ('Montrose', 1),\n",
       " ('Morgan', 1),\n",
       " ('San Miguel', 1),\n",
       " ('Summit', 1),\n",
       " ('Teller', 1)]"
      ]
     },
     "execution_count": 59,
     "metadata": {},
     "output_type": "execute_result"
    }
   ],
   "source": [
    "sorted(counts.items(), key=lambda r:r[1], reverse=True)"
   ]
  },
  {
   "cell_type": "code",
   "execution_count": 60,
   "metadata": {},
   "outputs": [
    {
     "data": {
      "text/plain": [
       "47674"
      ]
     },
     "execution_count": 60,
     "metadata": {},
     "output_type": "execute_result"
    }
   ],
   "source": [
    "len(batches)"
   ]
  },
  {
   "cell_type": "code",
   "execution_count": 61,
   "metadata": {},
   "outputs": [
    {
     "data": {
      "text/plain": [
       "[batch(county='Adams', scanner='1', batch='1', cardcount=200, location='BLUE1'),\n",
       " batch(county='Adams', scanner='1', batch='2', cardcount=200, location='BLUE1'),\n",
       " batch(county='Adams', scanner='1', batch='3', cardcount=198, location='BLUE1'),\n",
       " batch(county='Adams', scanner='1', batch='4', cardcount=200, location='BLUE1'),\n",
       " batch(county='Adams', scanner='1', batch='5', cardcount=204, location='BLUE2')]"
      ]
     },
     "execution_count": 61,
     "metadata": {},
     "output_type": "execute_result"
    }
   ],
   "source": [
    "batches[:5]"
   ]
  },
  {
   "cell_type": "code",
   "execution_count": 74,
   "metadata": {},
   "outputs": [],
   "source": [
    "countybatches = {}\n",
    "for batch in batches:\n",
    "    countybatches.setdefault(batch.county, []).append(batch)"
   ]
  },
  {
   "cell_type": "code",
   "execution_count": 75,
   "metadata": {},
   "outputs": [
    {
     "data": {
      "text/plain": [
       "58"
      ]
     },
     "execution_count": 75,
     "metadata": {},
     "output_type": "execute_result"
    }
   ],
   "source": [
    "len(countybatches)"
   ]
  },
  {
   "cell_type": "code",
   "execution_count": 83,
   "metadata": {},
   "outputs": [],
   "source": [
    "bothcounts = []\n",
    "for county, batches in countybatches.items():\n",
    "    bothcounts.append((sum(batch.cardcount for batch in batches), counts[county], county))"
   ]
  },
  {
   "cell_type": "markdown",
   "metadata": {},
   "source": [
    "## Counts of ballot cards and selections for Attorney General contest in each county"
   ]
  },
  {
   "cell_type": "code",
   "execution_count": 85,
   "metadata": {},
   "outputs": [
    {
     "data": {
      "text/plain": [
       "[(907316, 37, 'Denver'),\n",
       " (610888, 25, 'Jefferson'),\n",
       " (556085, 27, 'El Paso'),\n",
       " (532104, 19, 'Arapahoe'),\n",
       " (358525, 13, 'Douglas'),\n",
       " (353493, 16, 'BOULDER'),\n",
       " (345797, 10, 'Adams'),\n",
       " (250568, 9, 'Weld'),\n",
       " (184021, 4, 'Larimer'),\n",
       " (68803, 1, 'Mesa'),\n",
       " (45201, 2, 'Eagle'),\n",
       " (36674, 0, 'Broomfield'),\n",
       " (28907, 3, 'La Plata'),\n",
       " (26748, 0, 'Routt'),\n",
       " (26044, 1, 'Delta'),\n",
       " (19960, 1, 'Fremont'),\n",
       " (19767, 1, 'Summit'),\n",
       " (19314, 1, 'Montrose'),\n",
       " (19027, 2, 'Pitkin'),\n",
       " (17546, 2, 'Logan'),\n",
       " (15931, 0, 'Grand'),\n",
       " (14834, 1, 'Elbert'),\n",
       " (13041, 1, 'Teller'),\n",
       " (12435, 0, 'Park'),\n",
       " (11918, 1, 'Montezuma'),\n",
       " (11642, 2, 'Chaffee'),\n",
       " (10910, 1, 'Morgan'),\n",
       " (10767, 1, 'San Miguel'),\n",
       " (10685, 1, 'Moffat'),\n",
       " (9771, 1, 'Gunnison'),\n",
       " (7588, 0, 'Otero'),\n",
       " (7216, 0, 'CONEJOS '),\n",
       " (6958, 0, 'Archuleta'),\n",
       " (6434, 0, 'Las Animas'),\n",
       " (6199, 0, 'Alamosa'),\n",
       " (5843, 0, 'Saguache'),\n",
       " (5523, 0, 'ClearCreek'),\n",
       " (5038, 0, 'Rio Grande'),\n",
       " (4272, 0, 'Prowers'),\n",
       " (4209, 0, 'Yuma County'),\n",
       " (3901, 0, 'Huerfano'),\n",
       " (3459, 0, 'Costilla'),\n",
       " (3425, 0, 'Gilpin'),\n",
       " (3254, 0, 'Ouray'),\n",
       " (3188, 0, 'Kit Carson'),\n",
       " (3143, 0, 'Rio Blanco'),\n",
       " (2959, 0, 'LAKE'),\n",
       " (2923, 0, 'Custer'),\n",
       " (2500, 0, 'Sedgwick'),\n",
       " (2460, 0, 'Washington'),\n",
       " (2190, 0, 'Lincoln'),\n",
       " (2104, 0, 'Phillips'),\n",
       " (1958, 0, 'Baca'),\n",
       " (1921, 0, 'Bent'),\n",
       " (1426, 0, 'CROWLEY'),\n",
       " (1230, 0, 'Dolores'),\n",
       " (1027, 0, 'Cheyenne'),\n",
       " (835, 0, 'Kiowa')]"
      ]
     },
     "execution_count": 85,
     "metadata": {},
     "output_type": "execute_result"
    }
   ],
   "source": [
    "sorted(bothcounts, key=lambda r:r[0], reverse=True)"
   ]
  }
 ],
 "metadata": {
  "kernelspec": {
   "display_name": "Python 3",
   "language": "python",
   "name": "python3"
  },
  "language_info": {
   "codemirror_mode": {
    "name": "ipython",
    "version": 3
   },
   "file_extension": ".py",
   "mimetype": "text/x-python",
   "name": "python",
   "nbconvert_exporter": "python",
   "pygments_lexer": "ipython3",
   "version": "3.6.6"
  },
  "toc": {
   "colors": {
    "hover_highlight": "#DAA520",
    "running_highlight": "#FF0000",
    "selected_highlight": "#FFD700"
   },
   "moveMenuLeft": true,
   "nav_menu": {
    "height": "64.2014px",
    "width": "251.979px"
   },
   "navigate_menu": true,
   "number_sections": true,
   "sideBar": true,
   "threshold": 4,
   "toc_cell": false,
   "toc_section_display": "block",
   "toc_window_display": false,
   "widenNotebook": false
  }
 },
 "nbformat": 4,
 "nbformat_minor": 2
}
